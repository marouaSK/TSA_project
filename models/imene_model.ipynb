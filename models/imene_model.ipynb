{
 "cells": [
  {
   "cell_type": "markdown",
   "id": "093954eb-e973-4c85-b82e-73b345911781",
   "metadata": {},
   "source": [
    "# IMPORTS"
   ]
  },
  {
   "cell_type": "code",
   "execution_count": 22,
   "id": "99ab8f07-bdbf-427d-b0ee-14eb66d01806",
   "metadata": {},
   "outputs": [],
   "source": [
    "import pandas as pd\n",
    "import numpy as np\n",
    "from sklearn.model_selection import train_test_split\n",
    "from sklearn.metrics import mean_squared_error, accuracy_score\n",
    "from sklearn.preprocessing import StandardScaler\n",
    "from sklearn.naive_bayes import GaussianNB\n",
    "from sklearn.ensemble import GradientBoostingClassifier\n",
    "from sklearn.neural_network import MLPClassifier\n",
    "import matplotlib.pyplot as plt\n",
    "from sktime.classification.interval_based import TimeSeriesForestClassifier\n",
    "from sktime.datatypes._panel._convert import from_2d_array_to_nested\n",
    "from scipy.stats import skew, kurtosis\n",
    "from sklearn.ensemble import GradientBoostingClassifier\n",
    "from sklearn.model_selection import GridSearchCV\n",
    "from sklearn.ensemble import VotingClassifier\n",
    "from tsfresh import extract_features\n",
    "from sklearn.model_selection import TimeSeriesSplit"
   ]
  },
  {
   "cell_type": "markdown",
   "id": "f736f807-50b6-4ecb-9d6b-88c9ea3bdbd8",
   "metadata": {},
   "source": [
    "# LOAD DATA"
   ]
  },
  {
   "cell_type": "code",
   "execution_count": 5,
   "id": "5c0809eb-ac55-4ce9-91fa-baa731bf4fed",
   "metadata": {},
   "outputs": [],
   "source": [
    "df_train = pd.read_csv('Sleep Train 5000.csv', header=None)\n",
    "df_test = pd.read_csv('Sleep Test 1000.csv', header=None)"
   ]
  },
  {
   "cell_type": "markdown",
   "id": "da3a8ad2-8b75-4179-b4a7-5d608e8afe26",
   "metadata": {},
   "source": [
    "# PREPROCESSING"
   ]
  },
  {
   "cell_type": "code",
   "execution_count": 6,
   "id": "f2b3b323-a852-4466-a1fa-2c7b7ef79d86",
   "metadata": {},
   "outputs": [
    {
     "name": "stdout",
     "output_type": "stream",
     "text": [
      "Train shape: (4999, 179)\n",
      "Test shape: (1000, 178)\n"
     ]
    }
   ],
   "source": [
    "print(f\"Train shape: {df_train.shape}\")\n",
    "print(f\"Test shape: {df_test.shape}\")"
   ]
  },
  {
   "cell_type": "code",
   "execution_count": 7,
   "id": "51dd9fd6-2d3e-4c65-9c61-5bf7564746b2",
   "metadata": {},
   "outputs": [],
   "source": [
    "df_train = df_train.drop(columns=[178]) "
   ]
  },
  {
   "cell_type": "code",
   "execution_count": 8,
   "id": "b8410c73-f693-4bed-8f30-0d5919ef1a02",
   "metadata": {},
   "outputs": [
    {
     "name": "stdout",
     "output_type": "stream",
     "text": [
      "Train shape: (4999, 178)\n",
      "Test shape: (1000, 178)\n"
     ]
    }
   ],
   "source": [
    "print(f\"Train shape: {df_train.shape}\")\n",
    "print(f\"Test shape: {df_test.shape}\")"
   ]
  },
  {
   "cell_type": "markdown",
   "id": "14c275ce-3fd0-4c54-9dc0-4458b595a070",
   "metadata": {},
   "source": [
    "# SPLIT LABELS AND FEATURES"
   ]
  },
  {
   "cell_type": "code",
   "execution_count": 9,
   "id": "5bfc5a35-5b6d-4fea-b940-23fa98683817",
   "metadata": {},
   "outputs": [],
   "source": [
    "y_train = df_train.iloc[:, 0]\n",
    "X_train = df_train.iloc[:, 1:]\n",
    "y_test = df_test.iloc[:, 0]\n",
    "X_test = df_test.iloc[:, 1:]"
   ]
  },
  {
   "cell_type": "code",
   "execution_count": 10,
   "id": "692c3efe-f77e-4345-aef6-66bda8983a2f",
   "metadata": {},
   "outputs": [],
   "source": [
    "# Convert labels to integers (in both train and test)\n",
    "y_train = y_train.astype(int)\n",
    "y_test = y_test.astype(int)"
   ]
  },
  {
   "cell_type": "markdown",
   "id": "a19877aa-f770-4a01-a728-294b2e3d75d6",
   "metadata": {},
   "source": [
    "# Normalize features"
   ]
  },
  {
   "cell_type": "code",
   "execution_count": 11,
   "id": "2ba839cf-ca85-4abd-842e-c7a08c7a8171",
   "metadata": {},
   "outputs": [],
   "source": [
    "scaler = StandardScaler()\n",
    "X_train_scaled = scaler.fit_transform(X_train)\n",
    "X_test_scaled = scaler.transform(X_test)"
   ]
  },
  {
   "cell_type": "markdown",
   "id": "be2b9310-5832-49de-9e32-da1fc67375f9",
   "metadata": {},
   "source": [
    "# Naive Bayes"
   ]
  },
  {
   "cell_type": "code",
   "execution_count": 30,
   "id": "2f4645bb-7659-47b1-a2bf-2a2f2ebd9e10",
   "metadata": {},
   "outputs": [
    {
     "name": "stdout",
     "output_type": "stream",
     "text": [
      "Naive Bayes Accuracy: 0.034\n"
     ]
    }
   ],
   "source": [
    "nb = GaussianNB()\n",
    "nb.fit(X_train_scaled, y_train)\n",
    "y_pred_nb = nb.predict(X_test_scaled)\n",
    "\n",
    "print(\"Naive Bayes Accuracy:\", accuracy_score(y_test, y_pred_nb))"
   ]
  },
  {
   "cell_type": "markdown",
   "id": "3bc7423a-758c-4c3e-94ed-bc45b0d8183c",
   "metadata": {},
   "source": [
    "# Gradient Boosting"
   ]
  },
  {
   "cell_type": "code",
   "execution_count": 31,
   "id": "81badb97-04d2-4ab9-95af-84cdc79ca2e9",
   "metadata": {},
   "outputs": [
    {
     "name": "stdout",
     "output_type": "stream",
     "text": [
      "Gradient Boosting Accuracy: 0.031\n"
     ]
    }
   ],
   "source": [
    "gb = GradientBoostingClassifier()\n",
    "gb.fit(X_train, y_train)\n",
    "y_pred_gb = gb.predict(X_test)\n",
    "\n",
    "print(\"Gradient Boosting Accuracy:\", accuracy_score(y_test, y_pred_gb))"
   ]
  },
  {
   "cell_type": "markdown",
   "id": "b0996ec5-3ac7-4146-af05-3a91eed72615",
   "metadata": {},
   "source": [
    "# MLP Neural Network"
   ]
  },
  {
   "cell_type": "code",
   "execution_count": 32,
   "id": "8c8d14fc-5aaa-4f81-9857-46c0433728f2",
   "metadata": {},
   "outputs": [
    {
     "name": "stdout",
     "output_type": "stream",
     "text": [
      "MLP Accuracy: 0.034\n"
     ]
    }
   ],
   "source": [
    "mlp = MLPClassifier(hidden_layer_sizes=(50, 50), max_iter=500, random_state=42)\n",
    "mlp.fit(X_train_scaled, y_train)\n",
    "y_pred_mlp = mlp.predict(X_test_scaled)\n",
    "\n",
    "print(\"MLP Accuracy:\", accuracy_score(y_test, y_pred_mlp))"
   ]
  },
  {
   "cell_type": "markdown",
   "id": "7d6353f1-34f9-423f-9206-d1455c26d9ea",
   "metadata": {},
   "source": [
    "# Time Series Forest"
   ]
  },
  {
   "cell_type": "code",
   "execution_count": 12,
   "id": "b5f250c8-0c05-458c-8761-0fe05ef96862",
   "metadata": {},
   "outputs": [
    {
     "name": "stdout",
     "output_type": "stream",
     "text": [
      "TimeSeriesForest Accuracy: 0.045\n"
     ]
    }
   ],
   "source": [
    "# Step 1: Convert from 2D to sktime nested format\n",
    "X_train_sktime = from_2d_array_to_nested(X_train.to_numpy())\n",
    "X_test_sktime = from_2d_array_to_nested(X_test.to_numpy())\n",
    "\n",
    "# Step 2: Initialize and train the model\n",
    "tsf = TimeSeriesForestClassifier(n_estimators=100, random_state=42)\n",
    "tsf.fit(X_train_sktime, y_train)\n",
    "\n",
    "# Step 3: Predict and evaluate\n",
    "y_pred_tsf = tsf.predict(X_test_sktime)\n",
    "accuracy = accuracy_score(y_test, y_pred_tsf)\n",
    "\n",
    "print(\"TimeSeriesForest Accuracy:\", accuracy)"
   ]
  },
  {
   "cell_type": "markdown",
   "id": "1851d49a-04a2-46b9-b6b4-4498644c0a7c",
   "metadata": {},
   "source": [
    "# Voting Classifier"
   ]
  },
  {
   "cell_type": "code",
   "execution_count": 14,
   "id": "4c88c213-a5ad-4c6a-a3d2-0c4f83f29d09",
   "metadata": {},
   "outputs": [
    {
     "name": "stdout",
     "output_type": "stream",
     "text": [
      "(4999, 4)\n"
     ]
    }
   ],
   "source": [
    "def extract_features(X):\n",
    "    # Calculate basic time series features\n",
    "    means = np.mean(X, axis=1)\n",
    "    variances = np.var(X, axis=1)\n",
    "    skewness = skew(X, axis=1, nan_policy='omit')\n",
    "    kurt = kurtosis(X, axis=1, nan_policy='omit')\n",
    "    \n",
    "    features = np.column_stack([means, variances, skewness, kurt])\n",
    "    return features\n",
    "\n",
    "# Extract features for train and test data\n",
    "X_train_features = extract_features(X_train)\n",
    "X_test_features = extract_features(X_test)\n",
    "\n",
    "print(X_train_features.shape)  # Check the shape of the feature matrix"
   ]
  },
  {
   "cell_type": "code",
   "execution_count": 16,
   "id": "a6842bf6-d31c-4a0d-9483-1cf490c95073",
   "metadata": {},
   "outputs": [
    {
     "name": "stdout",
     "output_type": "stream",
     "text": [
      "Best Gradient Boosting Params: {'learning_rate': 0.01, 'max_depth': 3, 'n_estimators': 200}\n"
     ]
    }
   ],
   "source": [
    "# Set up hyperparameter grid for Gradient Boosting\n",
    "param_grid = {\n",
    "    'n_estimators': [100, 200],\n",
    "    'learning_rate': [0.01, 0.1],\n",
    "    'max_depth': [3, 5, 7]\n",
    "}\n",
    "\n",
    "# Initialize the model\n",
    "gb_model = GradientBoostingClassifier()\n",
    "\n",
    "# Set up GridSearchCV\n",
    "grid_search = GridSearchCV(gb_model, param_grid, cv=5)\n",
    "grid_search.fit(X_train_features, y_train)\n",
    "\n",
    "# Best parameters found by GridSearchCV\n",
    "print(\"Best Gradient Boosting Params:\", grid_search.best_params_)\n",
    "\n",
    "# Use the best model found by grid search\n",
    "best_gb_model = grid_search.best_estimator_"
   ]
  },
  {
   "cell_type": "code",
   "execution_count": 19,
   "id": "43db9503-fbe5-4eb6-bcc5-e861b85402d8",
   "metadata": {},
   "outputs": [],
   "source": [
    "nb_model = GaussianNB()\n",
    "mlp_model = MLPClassifier(hidden_layer_sizes=(100,), max_iter=300)\n",
    "tsf_model = TimeSeriesForestClassifier()"
   ]
  },
  {
   "cell_type": "code",
   "execution_count": 20,
   "id": "f410c15b-6224-43a9-b264-094f3535094a",
   "metadata": {},
   "outputs": [
    {
     "name": "stdout",
     "output_type": "stream",
     "text": [
      "Voting Classifier Accuracy: 0.042\n"
     ]
    }
   ],
   "source": [
    "# Combine models in a Voting Classifier\n",
    "voting_clf = VotingClassifier(estimators=[\n",
    "    ('nb', nb_model),\n",
    "    ('gb', best_gb_model),\n",
    "    ('mlp', mlp_model),\n",
    "    ('tsf', tsf_model)\n",
    "], voting='hard')  # You can also try 'soft' voting\n",
    "\n",
    "# Train the Voting Classifier\n",
    "voting_clf.fit(X_train_features, y_train)\n",
    "\n",
    "# Evaluate the model\n",
    "y_pred_voting = voting_clf.predict(X_test_features)\n",
    "\n",
    "# Calculate accuracy\n",
    "from sklearn.metrics import accuracy_score\n",
    "accuracy = accuracy_score(y_test, y_pred_voting)\n",
    "print(\"Voting Classifier Accuracy:\", accuracy)"
   ]
  },
  {
   "cell_type": "markdown",
   "id": "9c7d8173-e69c-4b12-9045-b1a482c327fa",
   "metadata": {},
   "source": [
    "# Cross Validation"
   ]
  },
  {
   "cell_type": "code",
   "execution_count": 25,
   "id": "03fab041-5d20-4138-89bc-fd2e713228bc",
   "metadata": {},
   "outputs": [
    {
     "name": "stdout",
     "output_type": "stream",
     "text": [
      "Fitting 5 folds for each of 27 candidates, totalling 135 fits\n",
      "Best Parameters: {'learning_rate': 0.5, 'max_depth': 3, 'n_estimators': 100}\n",
      "Best Cross-validation Accuracy: 0.3183673469387755\n"
     ]
    }
   ],
   "source": [
    "\n",
    "# Define parameter grid\n",
    "param_grid = {\n",
    "    'n_estimators': [50, 100, 200],\n",
    "    'learning_rate': [0.01, 0.1, 0.5],\n",
    "    'max_depth': [3, 5, 7]\n",
    "}\n",
    "\n",
    "# Initialize your model\n",
    "model = GradientBoostingClassifier()\n",
    "\n",
    "# Initialize GridSearchCV\n",
    "grid_search = GridSearchCV(estimator=model, param_grid=param_grid, cv=TimeSeriesSplit(n_splits=5), n_jobs=-1, verbose=2)\n",
    "\n",
    "# Fit grid search\n",
    "grid_search.fit(X_train, y_t rain)\n",
    "\n",
    "# Get the best parameters and accuracy\n",
    "print(f'Best Parameters: {grid_search.best_params_}')\n",
    "print(f'Best Cross-validation Accuracy: {grid_search.best_score_}')\n"
   ]
  },
  {
   "cell_type": "code",
   "execution_count": null,
   "id": "f81505b3-ce2f-403e-a60b-67d2d18b5ac2",
   "metadata": {},
   "outputs": [],
   "source": []
  }
 ],
 "metadata": {
  "kernelspec": {
   "display_name": "Python 3 (ipykernel)",
   "language": "python",
   "name": "python3"
  },
  "language_info": {
   "codemirror_mode": {
    "name": "ipython",
    "version": 3
   },
   "file_extension": ".py",
   "mimetype": "text/x-python",
   "name": "python",
   "nbconvert_exporter": "python",
   "pygments_lexer": "ipython3",
   "version": "3.11.5"
  }
 },
 "nbformat": 4,
 "nbformat_minor": 5
}
